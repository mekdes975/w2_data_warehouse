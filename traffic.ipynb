{
 "cells": [
  {
   "cell_type": "code",
   "execution_count": 1,
   "metadata": {},
   "outputs": [],
   "source": [
    "import pandas as pd \n",
    "import psycopg2\n",
    "from sqlalchemy import create_engine\n"
   ]
  },
  {
   "cell_type": "code",
   "execution_count": 2,
   "metadata": {},
   "outputs": [
    {
     "data": {
      "text/html": [
       "<div>\n",
       "<style scoped>\n",
       "    .dataframe tbody tr th:only-of-type {\n",
       "        vertical-align: middle;\n",
       "    }\n",
       "\n",
       "    .dataframe tbody tr th {\n",
       "        vertical-align: top;\n",
       "    }\n",
       "\n",
       "    .dataframe thead th {\n",
       "        text-align: right;\n",
       "    }\n",
       "</style>\n",
       "<table border=\"1\" class=\"dataframe\">\n",
       "  <thead>\n",
       "    <tr style=\"text-align: right;\">\n",
       "      <th></th>\n",
       "      <th>track_id; type; traveled_d; avg_speed; lat; lon; speed; lon_acc; lat_acc; time</th>\n",
       "    </tr>\n",
       "  </thead>\n",
       "  <tbody>\n",
       "    <tr>\n",
       "      <th>0</th>\n",
       "      <td>1; Car; 48.85; 9.770344; 37.977391; 23.737688;...</td>\n",
       "    </tr>\n",
       "  </tbody>\n",
       "</table>\n",
       "</div>"
      ],
      "text/plain": [
       "  track_id; type; traveled_d; avg_speed; lat; lon; speed; lon_acc; lat_acc; time\n",
       "0  1; Car; 48.85; 9.770344; 37.977391; 23.737688;...                            "
      ]
     },
     "execution_count": 2,
     "metadata": {},
     "output_type": "execute_result"
    }
   ],
   "source": [
    "df= pd.read_csv('/home/hp/Downloads/20181024_d1_0830_0900(2).csv')\n",
    "df.head(1)"
   ]
  },
  {
   "cell_type": "code",
   "execution_count": 3,
   "metadata": {},
   "outputs": [
    {
     "ename": "DuplicateTable",
     "evalue": "relation \"flow\" already exists\n",
     "output_type": "error",
     "traceback": [
      "\u001b[0;31m---------------------------------------------------------------------------\u001b[0m",
      "\u001b[0;31mDuplicateTable\u001b[0m                            Traceback (most recent call last)",
      "Cell \u001b[0;32mIn[3], line 21\u001b[0m\n\u001b[1;32m      6\u001b[0m \u001b[38;5;66;03m# Create table based on DataFrame structure\u001b[39;00m\n\u001b[1;32m      7\u001b[0m create_table_query \u001b[38;5;241m=\u001b[39m \u001b[38;5;124m'''\u001b[39m\n\u001b[1;32m      8\u001b[0m \u001b[38;5;124m    CREATE TABLE flow (\u001b[39m\n\u001b[1;32m      9\u001b[0m \u001b[38;5;124m        track_id INT,\u001b[39m\n\u001b[0;32m   (...)\u001b[0m\n\u001b[1;32m     19\u001b[0m \u001b[38;5;124m    )\u001b[39m\n\u001b[1;32m     20\u001b[0m \u001b[38;5;124m'''\u001b[39m\n\u001b[0;32m---> 21\u001b[0m \u001b[43mcursor\u001b[49m\u001b[38;5;241;43m.\u001b[39;49m\u001b[43mexecute\u001b[49m\u001b[43m(\u001b[49m\u001b[43mcreate_table_query\u001b[49m\u001b[43m)\u001b[49m\n\u001b[1;32m     22\u001b[0m conn\u001b[38;5;241m.\u001b[39mcommit()\n\u001b[1;32m     25\u001b[0m \u001b[38;5;66;03m# Close the connection\u001b[39;00m\n",
      "\u001b[0;31mDuplicateTable\u001b[0m: relation \"flow\" already exists\n"
     ]
    }
   ],
   "source": [
    "\n",
    "\n",
    "# Connect to PostgreSQL\n",
    "\n",
    "conn = psycopg2.connect(dbname='trafficflow', user='postgres', password='1234', host='localhost')\n",
    "cursor = conn.cursor()\n",
    "\n",
    "# Create table based on DataFrame structure\n",
    "create_table_query = '''\n",
    "    CREATE TABLE flow (\n",
    "        track_id INT,\n",
    "        type VARCHAR(50),\n",
    "        traveled_d FLOAT,\n",
    "        avg_speed FLOAT,\n",
    "        lat FLOAT,\n",
    "        lon FLOAT,\n",
    "        speed FLOAT,\n",
    "        lon_acc FLOAT,\n",
    "        lat_acc FLOAT,\n",
    "        time FLOAT\n",
    "    )\n",
    "'''\n",
    "cursor.execute(create_table_query)\n",
    "conn.commit()\n",
    "\n",
    "\n",
    "# Close the connection\n",
    "cursor.close()\n",
    "conn.close()\n"
   ]
  },
  {
   "cell_type": "code",
   "execution_count": 4,
   "metadata": {},
   "outputs": [
    {
     "data": {
      "text/plain": [
       "Index(['track_id; type; traveled_d; avg_speed; lat; lon; speed; lon_acc; lat_acc; time'], dtype='object')"
      ]
     },
     "execution_count": 4,
     "metadata": {},
     "output_type": "execute_result"
    }
   ],
   "source": [
    "import psycopg2\n",
    "# Establish a connection to the PostgreSQL database\n",
    "conn = psycopg2.connect(dbname='trafficflow', user='postgres', password='1234', host='localhost')\n",
    "cur = conn.cursor()\n",
    "\n",
    "# Load CSV data into a DataFrame (using pandas)\n",
    "df = pd.read_csv('/home/hp/Downloads/20181024_d1_0830_0900(2).csv')\n",
    "df.columns\n",
    "\n",
    "\n"
   ]
  },
  {
   "cell_type": "code",
   "execution_count": 5,
   "metadata": {},
   "outputs": [
    {
     "name": "stdout",
     "output_type": "stream",
     "text": [
      "  0            1        2           3           4           5         6       \\\n",
      "0      1          Car    48.85    9.770344   37.977391   23.737688    4.9178   \n",
      "1      2   Motorcycle    98.09   19.839417   37.977642   23.737400   16.9759   \n",
      "2      3   Motorcycle    63.80   18.228752   37.977997   23.737264   20.1906   \n",
      "3      4   Motorcycle   145.72   26.229014   37.978135   23.737072    2.7555   \n",
      "4      5   Motorcycle   138.01   24.841425   37.978134   23.737103    0.0000   \n",
      "\n",
      "     7         8          9       ... 122821 122822 122823 122824 122825  \\\n",
      "0    0.0518   -0.0299   0.000000  ...   None   None   None   None   None   \n",
      "1   -0.0361   -0.0228   0.000000  ...   None   None   None   None   None   \n",
      "2   -0.0795   -0.3395   0.000000  ...   None   None   None   None   None   \n",
      "3   -0.0302    0.0948   0.000000  ...   None   None   None   None   None   \n",
      "4    0.0000    0.0000   0.000000  ...   None   None   None   None   None   \n",
      "\n",
      "  122826 122827 122828 122829 122830  \n",
      "0   None   None   None   None   None  \n",
      "1   None   None   None   None   None  \n",
      "2   None   None   None   None   None  \n",
      "3   None   None   None   None   None  \n",
      "4   None   None   None   None   None  \n",
      "\n",
      "[5 rows x 122831 columns]\n"
     ]
    }
   ],
   "source": [
    "# Split the single column into multiple columns using the semicolon as the delimiter\n",
    "split_data = df['track_id; type; traveled_d; avg_speed; lat; lon; speed; lon_acc; lat_acc; time'].str.split(';', expand=True)\n",
    "\n",
    "# Check the structure of the split data\n",
    "print(split_data.head())  # Output the first few rows to verify the split\n",
    "\n",
    "\n"
   ]
  },
  {
   "cell_type": "code",
   "execution_count": 8,
   "metadata": {},
   "outputs": [
    {
     "ename": "IndexError",
     "evalue": "tuple index out of range",
     "output_type": "error",
     "traceback": [
      "\u001b[0;31m---------------------------------------------------------------------------\u001b[0m",
      "\u001b[0;31mIndexError\u001b[0m                                Traceback (most recent call last)",
      "Cell \u001b[0;32mIn[8], line 10\u001b[0m\n\u001b[1;32m      8\u001b[0m \u001b[38;5;66;03m# Insert data into PostgreSQL table from the selected columns\u001b[39;00m\n\u001b[1;32m      9\u001b[0m \u001b[38;5;28;01mfor\u001b[39;00m index, row \u001b[38;5;129;01min\u001b[39;00m selected_columns\u001b[38;5;241m.\u001b[39miterrows():\n\u001b[0;32m---> 10\u001b[0m     \u001b[43mcur\u001b[49m\u001b[38;5;241;43m.\u001b[39;49m\u001b[43mexecute\u001b[49m\u001b[43m(\u001b[49m\u001b[38;5;124;43m\"\"\"\u001b[39;49m\n\u001b[1;32m     11\u001b[0m \u001b[38;5;124;43m        INSERT INTO traffic (track_id,type, traveled_d, avg_speed, lat, lon, speed, lon_acc, lat_acc)\u001b[39;49m\n\u001b[1;32m     12\u001b[0m \u001b[38;5;124;43m        VALUES (\u001b[39;49m\u001b[38;5;132;43;01m%s\u001b[39;49;00m\u001b[38;5;124;43m, \u001b[39;49m\u001b[38;5;132;43;01m%s\u001b[39;49;00m\u001b[38;5;124;43m, \u001b[39;49m\u001b[38;5;132;43;01m%s\u001b[39;49;00m\u001b[38;5;124;43m, \u001b[39;49m\u001b[38;5;132;43;01m%s\u001b[39;49;00m\u001b[38;5;124;43m, \u001b[39;49m\u001b[38;5;132;43;01m%s\u001b[39;49;00m\u001b[38;5;124;43m, \u001b[39;49m\u001b[38;5;132;43;01m%s\u001b[39;49;00m\u001b[38;5;124;43m, \u001b[39;49m\u001b[38;5;132;43;01m%s\u001b[39;49;00m\u001b[38;5;124;43m, \u001b[39;49m\u001b[38;5;132;43;01m%s\u001b[39;49;00m\u001b[38;5;124;43m, \u001b[39;49m\u001b[38;5;132;43;01m%s\u001b[39;49;00m\u001b[38;5;124;43m, \u001b[39;49m\u001b[38;5;132;43;01m%s\u001b[39;49;00m\u001b[38;5;124;43m)\u001b[39;49m\u001b[38;5;124;43m\"\"\"\u001b[39;49m\u001b[43m,\u001b[49m\n\u001b[1;32m     13\u001b[0m \u001b[43m        \u001b[49m\u001b[43m(\u001b[49m\u001b[43mrow\u001b[49m\u001b[43m[\u001b[49m\u001b[38;5;241;43m0\u001b[39;49m\u001b[43m]\u001b[49m\u001b[43m,\u001b[49m\u001b[43m \u001b[49m\u001b[43mrow\u001b[49m\u001b[43m[\u001b[49m\u001b[38;5;241;43m1\u001b[39;49m\u001b[43m]\u001b[49m\u001b[43m,\u001b[49m\u001b[43m \u001b[49m\u001b[43mrow\u001b[49m\u001b[43m[\u001b[49m\u001b[38;5;241;43m2\u001b[39;49m\u001b[43m]\u001b[49m\u001b[43m,\u001b[49m\u001b[43m \u001b[49m\u001b[43mrow\u001b[49m\u001b[43m[\u001b[49m\u001b[38;5;241;43m3\u001b[39;49m\u001b[43m]\u001b[49m\u001b[43m,\u001b[49m\u001b[43m \u001b[49m\u001b[43mrow\u001b[49m\u001b[43m[\u001b[49m\u001b[38;5;241;43m4\u001b[39;49m\u001b[43m]\u001b[49m\u001b[43m,\u001b[49m\u001b[43m \u001b[49m\u001b[43mrow\u001b[49m\u001b[43m[\u001b[49m\u001b[38;5;241;43m5\u001b[39;49m\u001b[43m]\u001b[49m\u001b[43m,\u001b[49m\n\u001b[1;32m     14\u001b[0m \u001b[43m         \u001b[49m\u001b[43mrow\u001b[49m\u001b[43m[\u001b[49m\u001b[38;5;241;43m6\u001b[39;49m\u001b[43m]\u001b[49m\u001b[43m,\u001b[49m\u001b[43m \u001b[49m\u001b[43mrow\u001b[49m\u001b[43m[\u001b[49m\u001b[38;5;241;43m7\u001b[39;49m\u001b[43m]\u001b[49m\u001b[43m,\u001b[49m\u001b[43m \u001b[49m\u001b[43mrow\u001b[49m\u001b[43m[\u001b[49m\u001b[38;5;241;43m8\u001b[39;49m\u001b[43m]\u001b[49m\u001b[43m)\u001b[49m\u001b[43m)\u001b[49m\n\u001b[1;32m     16\u001b[0m conn\u001b[38;5;241m.\u001b[39mcommit()\n\u001b[1;32m     18\u001b[0m \u001b[38;5;66;03m# Close the cursor and connection\u001b[39;00m\n",
      "\u001b[0;31mIndexError\u001b[0m: tuple index out of range"
     ]
    }
   ],
   "source": [
    "# Select only the first 10 columns\n",
    "selected_columns = split_data.iloc[:, :10]\n",
    "\n",
    "# Connect to PostgreSQL\n",
    "conn = psycopg2.connect(dbname='trafficflow', user='postgres', password='1234', host='localhost')\n",
    "cur = conn.cursor()\n",
    "\n",
    "# Insert data into PostgreSQL table from the selected columns\n",
    "for index, row in selected_columns.iterrows():\n",
    "    cur.execute(\"\"\"\n",
    "        INSERT INTO traffic (track_id,type, traveled_d, avg_speed, lat, lon, speed, lon_acc, lat_acc)\n",
    "        VALUES (%s, %s, %s, %s, %s, %s, %s, %s, %s, %s)\"\"\",\n",
    "        (row[0], row[1], row[2], row[3], row[4], row[5],\n",
    "         row[6], row[7], row[8]))\n",
    "\n",
    "conn.commit()\n",
    "\n",
    "# Close the cursor and connection\n",
    "cur.close()\n",
    "conn.close()\n"
   ]
  },
  {
   "cell_type": "code",
   "execution_count": null,
   "metadata": {},
   "outputs": [],
   "source": [
    "\n",
    "\n",
    "\n",
    "\n",
    "# Split the single column into multiple columns using the semicolon as the delimiter\n",
    "df = df['track_id; type; traveled_d; avg_speed; lat; lon; speed; lon_acc; lat_acc; time'].str.split(';', expand=True)\n",
    "\n",
    "# Connect to PostgreSQL\n",
    "conn = psycopg2.connect(dbname='trafficflow', user='postgres', password='1234', host='localhost')\n",
    "cur = conn.cursor()\n",
    "\n",
    "# Insert data into PostgreSQL table from the DataFrame\n",
    "for index, row in df.iterrows():\n",
    "    cur.execute(\"\"\"\n",
    "        INSERT INTO your_table_name (track_id, type, traveled_d, avg_speed, lat, lon, speed, lon_acc, lat_acc, time) \n",
    "        VALUES (%s, %s, %s, %s, %s, %s, %s, %s, %s, %s)\"\"\",\n",
    "        (row[0], row[1], row[2], row[3], row[4], row[5], row[6], row[7], row[8], row[9]))\n",
    "\n",
    "conn.commit()\n",
    "\n",
    "# Close the cursor and connection\n",
    "cur.close()\n",
    "conn.close()\n"
   ]
  }
 ],
 "metadata": {
  "kernelspec": {
   "display_name": "Python 3",
   "language": "python",
   "name": "python3"
  },
  "language_info": {
   "codemirror_mode": {
    "name": "ipython",
    "version": 3
   },
   "file_extension": ".py",
   "mimetype": "text/x-python",
   "name": "python",
   "nbconvert_exporter": "python",
   "pygments_lexer": "ipython3",
   "version": "3.10.12"
  }
 },
 "nbformat": 4,
 "nbformat_minor": 2
}
